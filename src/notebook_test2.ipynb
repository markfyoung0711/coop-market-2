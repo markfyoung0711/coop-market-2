{
 "cells": [
  {
   "cell_type": "code",
   "execution_count": 2,
   "id": "96ba3c52-8fa3-44d3-83ab-9b2c5dbe9075",
   "metadata": {},
   "outputs": [],
   "source": [
    "from io import StringIO\n",
    "import pandas as pd\n",
    "\n",
    "from src.score_analyzer import score_analyzer\n"
   ]
  },
  {
   "cell_type": "code",
   "execution_count": 3,
   "id": "c9d49bd0-f23b-4b58-8fc9-601c3486037d",
   "metadata": {},
   "outputs": [],
   "source": [
    "# raw data with expected results\n",
    "RAW_TEST_DATA = '''score_1,score_2,expected_highlighted,expected_risk_1_group\n",
    "0.71,0.4,False,High\n",
    "0.52,0.85,False,High\n",
    "0.18,0.7,True,Medium\n",
    "0.11,0.55,True,Medium\n",
    "0.74,0.08,False,High\n",
    "0.9,0.34,False,Very High\n",
    "0.96,0.17,False,Very High\n",
    "0.59,0.14,False,High\n",
    "0.56,0.03,False,High\n",
    "0.05,0.62,True,Very Low\n",
    "0.19,0.08,True,Medium'''\n"
   ]
  },
  {
   "cell_type": "code",
   "execution_count": 4,
   "id": "6e475ea5-afc2-4893-856f-3540834d69e9",
   "metadata": {},
   "outputs": [],
   "source": [
    "def generate_raw_data():\n",
    "    '''              \n",
    "    Create tempfile (csv) for opening with read_csv, and then use as fixture\n",
    "                     \n",
    "    Returns:         \n",
    "    --------\n",
    "    df: dataframe, with score_1 and score_2 inputs, and associated expected\n",
    "        result fields/values\n",
    "\n",
    "    '''\n",
    "    with StringIO(RAW_TEST_DATA) as temp:\n",
    "        df = pd.read_csv(temp, dtype=str)\n",
    "        df['score_1'] = df['score_1'].astype(float)\n",
    "        df['score_2'] = df['score_2'].astype(float)\n",
    "        df.loc[df['expected_highlighted'] == 'True', 'expected_highlighted'] = True\n",
    "        df.loc[df['expected_highlighted'] == 'False', 'expected_highlighted'] = False\n",
    "        return df"
   ]
  },
  {
   "cell_type": "code",
   "execution_count": 5,
   "id": "c58f1549-d7b5-4eda-b66c-6742d8b39003",
   "metadata": {},
   "outputs": [],
   "source": [
    "test_df = generate_raw_data()"
   ]
  },
  {
   "cell_type": "code",
   "execution_count": 6,
   "id": "196debd2-99bb-43f1-9bd6-5f7e5f37d56c",
   "metadata": {},
   "outputs": [
    {
     "data": {
      "text/html": [
       "<div>\n",
       "<style scoped>\n",
       "    .dataframe tbody tr th:only-of-type {\n",
       "        vertical-align: middle;\n",
       "    }\n",
       "\n",
       "    .dataframe tbody tr th {\n",
       "        vertical-align: top;\n",
       "    }\n",
       "\n",
       "    .dataframe thead th {\n",
       "        text-align: right;\n",
       "    }\n",
       "</style>\n",
       "<table border=\"1\" class=\"dataframe\">\n",
       "  <thead>\n",
       "    <tr style=\"text-align: right;\">\n",
       "      <th></th>\n",
       "      <th>score_1</th>\n",
       "      <th>score_2</th>\n",
       "      <th>expected_highlighted</th>\n",
       "      <th>expected_risk_1_group</th>\n",
       "    </tr>\n",
       "  </thead>\n",
       "  <tbody>\n",
       "    <tr>\n",
       "      <th>0</th>\n",
       "      <td>0.71</td>\n",
       "      <td>0.40</td>\n",
       "      <td>False</td>\n",
       "      <td>High</td>\n",
       "    </tr>\n",
       "    <tr>\n",
       "      <th>1</th>\n",
       "      <td>0.52</td>\n",
       "      <td>0.85</td>\n",
       "      <td>False</td>\n",
       "      <td>High</td>\n",
       "    </tr>\n",
       "    <tr>\n",
       "      <th>2</th>\n",
       "      <td>0.18</td>\n",
       "      <td>0.70</td>\n",
       "      <td>True</td>\n",
       "      <td>Medium</td>\n",
       "    </tr>\n",
       "    <tr>\n",
       "      <th>3</th>\n",
       "      <td>0.11</td>\n",
       "      <td>0.55</td>\n",
       "      <td>True</td>\n",
       "      <td>Medium</td>\n",
       "    </tr>\n",
       "    <tr>\n",
       "      <th>4</th>\n",
       "      <td>0.74</td>\n",
       "      <td>0.08</td>\n",
       "      <td>False</td>\n",
       "      <td>High</td>\n",
       "    </tr>\n",
       "  </tbody>\n",
       "</table>\n",
       "</div>"
      ],
      "text/plain": [
       "   score_1  score_2 expected_highlighted expected_risk_1_group\n",
       "0     0.71     0.40                False                  High\n",
       "1     0.52     0.85                False                  High\n",
       "2     0.18     0.70                 True                Medium\n",
       "3     0.11     0.55                 True                Medium\n",
       "4     0.74     0.08                False                  High"
      ]
     },
     "execution_count": 6,
     "metadata": {},
     "output_type": "execute_result"
    }
   ],
   "source": [
    "test_df.head()"
   ]
  },
  {
   "cell_type": "code",
   "execution_count": 7,
   "id": "86c5f20c-302a-4701-898b-d293fd7c373e",
   "metadata": {},
   "outputs": [
    {
     "data": {
      "text/plain": [
       "<Axes: >"
      ]
     },
     "execution_count": 7,
     "metadata": {},
     "output_type": "execute_result"
    },
    {
     "data": {
      "image/png": "[encoded data removed]",
      "text/plain": [
       "<Figure size 640x480 with 1 Axes>"
      ]
     },
     "metadata": {},
     "output_type": "display_data"
    }
   ],
   "source": [
    "test_df.plot()"
   ]
  },
  {
   "cell_type": "code",
   "execution_count": 8,
   "id": "854166e1-94df-42a4-80fb-ca39d4296dda",
   "metadata": {},
   "outputs": [
    {
     "data": {
      "text/plain": [
       "array([<Axes: >], dtype=object)"
      ]
     },
     "execution_count": 8,
     "metadata": {},
     "output_type": "execute_result"
    },
    {
     "data": {
      "image/png": "[encoded data removed]",
      "text/plain": [
       "<Figure size 640x480 with 1 Axes>"
      ]
     },
     "metadata": {},
     "output_type": "display_data"
    }
   ],
   "source": [
    "test_df[['score_1','expected_risk_1_group']].plot.area(subplots=True)"
   ]
  },
  {
   "cell_type": "code",
   "execution_count": 9,
   "id": "6a7a8604-d461-44b7-8e90-59f7228f9312",
   "metadata": {},
   "outputs": [],
   "source": [
    "results = score_analyzer(test_df)\n"
   ]
  },
  {
   "cell_type": "code",
   "execution_count": 10,
   "id": "b74959d0-b7f5-41ff-8931-0fad38a2ec48",
   "metadata": {},
   "outputs": [
    {
     "data": {
      "text/html": [
       "<div>\n",
       "<style scoped>\n",
       "    .dataframe tbody tr th:only-of-type {\n",
       "        vertical-align: middle;\n",
       "    }\n",
       "\n",
       "    .dataframe tbody tr th {\n",
       "        vertical-align: top;\n",
       "    }\n",
       "\n",
       "    .dataframe thead th {\n",
       "        text-align: right;\n",
       "    }\n",
       "</style>\n",
       "<table border=\"1\" class=\"dataframe\">\n",
       "  <thead>\n",
       "    <tr style=\"text-align: right;\">\n",
       "      <th></th>\n",
       "      <th>score_1</th>\n",
       "      <th>score_2</th>\n",
       "      <th>expected_highlighted</th>\n",
       "      <th>expected_risk_1_group</th>\n",
       "      <th>highlighted</th>\n",
       "      <th>risk_1_group</th>\n",
       "      <th>High</th>\n",
       "      <th>Medium</th>\n",
       "      <th>Very High</th>\n",
       "      <th>Very Low</th>\n",
       "    </tr>\n",
       "  </thead>\n",
       "  <tbody>\n",
       "    <tr>\n",
       "      <th>0</th>\n",
       "      <td>0.71</td>\n",
       "      <td>0.40</td>\n",
       "      <td>False</td>\n",
       "      <td>High</td>\n",
       "      <td>False</td>\n",
       "      <td>High</td>\n",
       "      <td>0.71</td>\n",
       "      <td>NaN</td>\n",
       "      <td>NaN</td>\n",
       "      <td>NaN</td>\n",
       "    </tr>\n",
       "    <tr>\n",
       "      <th>1</th>\n",
       "      <td>0.52</td>\n",
       "      <td>0.85</td>\n",
       "      <td>False</td>\n",
       "      <td>High</td>\n",
       "      <td>False</td>\n",
       "      <td>High</td>\n",
       "      <td>0.52</td>\n",
       "      <td>NaN</td>\n",
       "      <td>NaN</td>\n",
       "      <td>NaN</td>\n",
       "    </tr>\n",
       "    <tr>\n",
       "      <th>2</th>\n",
       "      <td>0.18</td>\n",
       "      <td>0.70</td>\n",
       "      <td>True</td>\n",
       "      <td>Medium</td>\n",
       "      <td>True</td>\n",
       "      <td>Medium</td>\n",
       "      <td>NaN</td>\n",
       "      <td>0.18</td>\n",
       "      <td>NaN</td>\n",
       "      <td>NaN</td>\n",
       "    </tr>\n",
       "    <tr>\n",
       "      <th>3</th>\n",
       "      <td>0.11</td>\n",
       "      <td>0.55</td>\n",
       "      <td>True</td>\n",
       "      <td>Medium</td>\n",
       "      <td>True</td>\n",
       "      <td>Medium</td>\n",
       "      <td>NaN</td>\n",
       "      <td>0.11</td>\n",
       "      <td>NaN</td>\n",
       "      <td>NaN</td>\n",
       "    </tr>\n",
       "    <tr>\n",
       "      <th>4</th>\n",
       "      <td>0.74</td>\n",
       "      <td>0.08</td>\n",
       "      <td>False</td>\n",
       "      <td>High</td>\n",
       "      <td>False</td>\n",
       "      <td>High</td>\n",
       "      <td>0.74</td>\n",
       "      <td>NaN</td>\n",
       "      <td>NaN</td>\n",
       "      <td>NaN</td>\n",
       "    </tr>\n",
       "  </tbody>\n",
       "</table>\n",
       "</div>"
      ],
      "text/plain": [
       "   score_1  score_2 expected_highlighted expected_risk_1_group highlighted  \\\n",
       "0     0.71     0.40                False                  High       False   \n",
       "1     0.52     0.85                False                  High       False   \n",
       "2     0.18     0.70                 True                Medium        True   \n",
       "3     0.11     0.55                 True                Medium        True   \n",
       "4     0.74     0.08                False                  High       False   \n",
       "\n",
       "  risk_1_group  High  Medium  Very High  Very Low  \n",
       "0         High  0.71     NaN        NaN       NaN  \n",
       "1         High  0.52     NaN        NaN       NaN  \n",
       "2       Medium   NaN    0.18        NaN       NaN  \n",
       "3       Medium   NaN    0.11        NaN       NaN  \n",
       "4         High  0.74     NaN        NaN       NaN  "
      ]
     },
     "execution_count": 10,
     "metadata": {},
     "output_type": "execute_result"
    }
   ],
   "source": [
    "results.head()"
   ]
  },
  {
   "cell_type": "code",
   "execution_count": 11,
   "id": "6bd5f772-d79d-4efe-8110-c0026593988c",
   "metadata": {},
   "outputs": [],
   "source": [
    "df = results[['Very Low', 'score_1']]"
   ]
  },
  {
   "cell_type": "code",
   "execution_count": 16,
   "id": "54a12f2e-62d2-4eb3-b7f5-839060adf603",
   "metadata": {},
   "outputs": [
    {
     "data": {
      "text/plain": [
       "<Axes: >"
      ]
     },
     "execution_count": 16,
     "metadata": {},
     "output_type": "execute_result"
    },
    {
     "data": {
      "image/png": "[encoded data removed]",
      "text/plain": [
       "<Figure size 640x480 with 1 Axes>"
      ]
     },
     "metadata": {},
     "output_type": "display_data"
    }
   ],
   "source": [
    "df.plot()"
   ]
  },
  {
   "cell_type": "code",
   "execution_count": 17,
   "id": "aeb12e96-48f1-49a5-a7c3-d872db2a99b4",
   "metadata": {},
   "outputs": [
    {
     "data": {
      "text/html": [
       "<div>\n",
       "<style scoped>\n",
       "    .dataframe tbody tr th:only-of-type {\n",
       "        vertical-align: middle;\n",
       "    }\n",
       "\n",
       "    .dataframe tbody tr th {\n",
       "        vertical-align: top;\n",
       "    }\n",
       "\n",
       "    .dataframe thead th {\n",
       "        text-align: right;\n",
       "    }\n",
       "</style>\n",
       "<table border=\"1\" class=\"dataframe\">\n",
       "  <thead>\n",
       "    <tr style=\"text-align: right;\">\n",
       "      <th></th>\n",
       "      <th>risk_1_group</th>\n",
       "      <th>score_1</th>\n",
       "    </tr>\n",
       "  </thead>\n",
       "  <tbody>\n",
       "    <tr>\n",
       "      <th>0</th>\n",
       "      <td>High</td>\n",
       "      <td>0.71</td>\n",
       "    </tr>\n",
       "    <tr>\n",
       "      <th>1</th>\n",
       "      <td>High</td>\n",
       "      <td>0.52</td>\n",
       "    </tr>\n",
       "    <tr>\n",
       "      <th>2</th>\n",
       "      <td>Medium</td>\n",
       "      <td>0.18</td>\n",
       "    </tr>\n",
       "    <tr>\n",
       "      <th>3</th>\n",
       "      <td>Medium</td>\n",
       "      <td>0.11</td>\n",
       "    </tr>\n",
       "    <tr>\n",
       "      <th>4</th>\n",
       "      <td>High</td>\n",
       "      <td>0.74</td>\n",
       "    </tr>\n",
       "  </tbody>\n",
       "</table>\n",
       "</div>"
      ],
      "text/plain": [
       "  risk_1_group  score_1\n",
       "0         High     0.71\n",
       "1         High     0.52\n",
       "2       Medium     0.18\n",
       "3       Medium     0.11\n",
       "4         High     0.74"
      ]
     },
     "execution_count": 17,
     "metadata": {},
     "output_type": "execute_result"
    }
   ],
   "source": [
    "df.head()"
   ]
  },
  {
   "cell_type": "code",
   "execution_count": 21,
   "id": "e9c1c5f0-2a48-4709-82dc-c7c4a9b3fb74",
   "metadata": {},
   "outputs": [],
   "source": [
    "df = df.reset_index()"
   ]
  },
  {
   "cell_type": "code",
   "execution_count": 22,
   "id": "e6b32c36-70c3-471a-b978-91b2dd8dc6e7",
   "metadata": {},
   "outputs": [
    {
     "data": {
      "text/html": [
       "<div>\n",
       "<style scoped>\n",
       "    .dataframe tbody tr th:only-of-type {\n",
       "        vertical-align: middle;\n",
       "    }\n",
       "\n",
       "    .dataframe tbody tr th {\n",
       "        vertical-align: top;\n",
       "    }\n",
       "\n",
       "    .dataframe thead th {\n",
       "        text-align: right;\n",
       "    }\n",
       "</style>\n",
       "<table border=\"1\" class=\"dataframe\">\n",
       "  <thead>\n",
       "    <tr style=\"text-align: right;\">\n",
       "      <th></th>\n",
       "      <th>score_1</th>\n",
       "      <th>risk_1_group</th>\n",
       "    </tr>\n",
       "  </thead>\n",
       "  <tbody>\n",
       "    <tr>\n",
       "      <th>0</th>\n",
       "      <td>0.71</td>\n",
       "      <td>High</td>\n",
       "    </tr>\n",
       "    <tr>\n",
       "      <th>1</th>\n",
       "      <td>0.52</td>\n",
       "      <td>High</td>\n",
       "    </tr>\n",
       "    <tr>\n",
       "      <th>2</th>\n",
       "      <td>0.18</td>\n",
       "      <td>Medium</td>\n",
       "    </tr>\n",
       "    <tr>\n",
       "      <th>3</th>\n",
       "      <td>0.11</td>\n",
       "      <td>Medium</td>\n",
       "    </tr>\n",
       "    <tr>\n",
       "      <th>4</th>\n",
       "      <td>0.74</td>\n",
       "      <td>High</td>\n",
       "    </tr>\n",
       "  </tbody>\n",
       "</table>\n",
       "</div>"
      ],
      "text/plain": [
       "   score_1 risk_1_group\n",
       "0     0.71         High\n",
       "1     0.52         High\n",
       "2     0.18       Medium\n",
       "3     0.11       Medium\n",
       "4     0.74         High"
      ]
     },
     "execution_count": 22,
     "metadata": {},
     "output_type": "execute_result"
    }
   ],
   "source": [
    "df.head()"
   ]
  },
  {
   "cell_type": "code",
   "execution_count": 23,
   "id": "52f54c6a-3bec-4350-b201-5ca34a5e3e9d",
   "metadata": {},
   "outputs": [],
   "source": [
    "df = df.set_index('risk_1_group')"
   ]
  },
  {
   "cell_type": "code",
   "execution_count": 24,
   "id": "485b5e46-61bc-4632-99fd-f2f3aab4bb26",
   "metadata": {},
   "outputs": [
    {
     "data": {
      "text/html": [
       "<div>\n",
       "<style scoped>\n",
       "    .dataframe tbody tr th:only-of-type {\n",
       "        vertical-align: middle;\n",
       "    }\n",
       "\n",
       "    .dataframe tbody tr th {\n",
       "        vertical-align: top;\n",
       "    }\n",
       "\n",
       "    .dataframe thead th {\n",
       "        text-align: right;\n",
       "    }\n",
       "</style>\n",
       "<table border=\"1\" class=\"dataframe\">\n",
       "  <thead>\n",
       "    <tr style=\"text-align: right;\">\n",
       "      <th></th>\n",
       "      <th>score_1</th>\n",
       "    </tr>\n",
       "    <tr>\n",
       "      <th>risk_1_group</th>\n",
       "      <th></th>\n",
       "    </tr>\n",
       "  </thead>\n",
       "  <tbody>\n",
       "    <tr>\n",
       "      <th>High</th>\n",
       "      <td>0.71</td>\n",
       "    </tr>\n",
       "    <tr>\n",
       "      <th>High</th>\n",
       "      <td>0.52</td>\n",
       "    </tr>\n",
       "    <tr>\n",
       "      <th>Medium</th>\n",
       "      <td>0.18</td>\n",
       "    </tr>\n",
       "    <tr>\n",
       "      <th>Medium</th>\n",
       "      <td>0.11</td>\n",
       "    </tr>\n",
       "    <tr>\n",
       "      <th>High</th>\n",
       "      <td>0.74</td>\n",
       "    </tr>\n",
       "  </tbody>\n",
       "</table>\n",
       "</div>"
      ],
      "text/plain": [
       "              score_1\n",
       "risk_1_group         \n",
       "High             0.71\n",
       "High             0.52\n",
       "Medium           0.18\n",
       "Medium           0.11\n",
       "High             0.74"
      ]
     },
     "execution_count": 24,
     "metadata": {},
     "output_type": "execute_result"
    }
   ],
   "source": [
    "df.head()"
   ]
  },
  {
   "cell_type": "code",
   "execution_count": 26,
   "id": "db1f46af-9103-4ab8-bf03-ba6059d1b714",
   "metadata": {},
   "outputs": [
    {
     "data": {
      "text/plain": [
       "<Axes: xlabel='risk_1_group'>"
      ]
     },
     "execution_count": 26,
     "metadata": {},
     "output_type": "execute_result"
    },
    {
     "data": {
      "image/png": "[encoded data removed]",
      "text/plain": [
       "<Figure size 640x480 with 1 Axes>"
      ]
     },
     "metadata": {},
     "output_type": "display_data"
    }
   ],
   "source": [
    "df.plot.bar()"
   ]
  },
  {
   "cell_type": "markdown",
   "id": "5f5b6b66-fc54-4eee-b132-3840377a5aaf",
   "metadata": {},
   "source": [
    "this dataframe would be nice to have column names by the risk_1_group names so they can be plotted against one another"
   ]
  },
  {
   "cell_type": "code",
   "execution_count": null,
   "id": "db682b8f-70d4-48a4-b06e-05a88c6b09c0",
   "metadata": {},
   "outputs": [],
   "source": []
  }
 ],
 "metadata": {
  "kernelspec": {
   "display_name": "Python 3 (ipykernel)",
   "language": "python",
   "name": "python3"
  },
  "language_info": {
   "codemirror_mode": {
    "name": "ipython",
    "version": 3
   },
   "file_extension": ".py",
   "mimetype": "text/x-python",
   "name": "python",
   "nbconvert_exporter": "python",
   "pygments_lexer": "ipython3",
   "version": "3.12.2"
  }
 },
 "nbformat": 4,
 "nbformat_minor": 5
}
